{
 "cells": [
  {
   "cell_type": "code",
   "execution_count": 21,
   "id": "18e6199d-2bc3-4157-9467-56813fc48a9e",
   "metadata": {},
   "outputs": [],
   "source": [
    "import pandas as pd"
   ]
  },
  {
   "cell_type": "code",
   "execution_count": 22,
   "id": "28afcaf4-14d6-469c-a0a6-9f93158c263f",
   "metadata": {},
   "outputs": [
    {
     "data": {
      "text/html": [
       "<div>\n",
       "<style scoped>\n",
       "    .dataframe tbody tr th:only-of-type {\n",
       "        vertical-align: middle;\n",
       "    }\n",
       "\n",
       "    .dataframe tbody tr th {\n",
       "        vertical-align: top;\n",
       "    }\n",
       "\n",
       "    .dataframe thead th {\n",
       "        text-align: right;\n",
       "    }\n",
       "</style>\n",
       "<table border=\"1\" class=\"dataframe\">\n",
       "  <thead>\n",
       "    <tr style=\"text-align: right;\">\n",
       "      <th></th>\n",
       "      <th>id</th>\n",
       "      <th>title</th>\n",
       "      <th>genre</th>\n",
       "      <th>original_language</th>\n",
       "      <th>overview</th>\n",
       "      <th>popularity</th>\n",
       "      <th>release_date</th>\n",
       "      <th>vote_average</th>\n",
       "      <th>vote_count</th>\n",
       "      <th>movie_id</th>\n",
       "      <th>cast</th>\n",
       "      <th>crew</th>\n",
       "    </tr>\n",
       "  </thead>\n",
       "  <tbody>\n",
       "    <tr>\n",
       "      <th>0</th>\n",
       "      <td>278</td>\n",
       "      <td>The Shawshank Redemption</td>\n",
       "      <td>Drama,Crime</td>\n",
       "      <td>en</td>\n",
       "      <td>Framed in the 1940s for the double murder of h...</td>\n",
       "      <td>94.075</td>\n",
       "      <td>1994-09-23</td>\n",
       "      <td>8.7</td>\n",
       "      <td>21862</td>\n",
       "      <td>278</td>\n",
       "      <td>[{\"cast_id\": 3, \"character\": \"Andy Dufresne\", ...</td>\n",
       "      <td>[{\"credit_id\": \"52fe4231c3a36847f800b153\", \"de...</td>\n",
       "    </tr>\n",
       "    <tr>\n",
       "      <th>1</th>\n",
       "      <td>238</td>\n",
       "      <td>The Godfather</td>\n",
       "      <td>Drama,Crime</td>\n",
       "      <td>en</td>\n",
       "      <td>Spanning the years 1945 to 1955, a chronicle o...</td>\n",
       "      <td>90.585</td>\n",
       "      <td>1972-03-14</td>\n",
       "      <td>8.7</td>\n",
       "      <td>16280</td>\n",
       "      <td>238</td>\n",
       "      <td>[{\"cast_id\": 5, \"character\": \"Don Vito Corleon...</td>\n",
       "      <td>[{\"credit_id\": \"52fe422bc3a36847f80093c9\", \"de...</td>\n",
       "    </tr>\n",
       "    <tr>\n",
       "      <th>2</th>\n",
       "      <td>424</td>\n",
       "      <td>Schindler's List</td>\n",
       "      <td>Drama,History,War</td>\n",
       "      <td>en</td>\n",
       "      <td>The true story of how businessman Oskar Schind...</td>\n",
       "      <td>44.761</td>\n",
       "      <td>1993-12-15</td>\n",
       "      <td>8.6</td>\n",
       "      <td>12959</td>\n",
       "      <td>424</td>\n",
       "      <td>[{\"cast_id\": 14, \"character\": \"Oskar Schindler...</td>\n",
       "      <td>[{\"credit_id\": \"52fe4242c3a36847f8010303\", \"de...</td>\n",
       "    </tr>\n",
       "    <tr>\n",
       "      <th>3</th>\n",
       "      <td>240</td>\n",
       "      <td>The Godfather: Part II</td>\n",
       "      <td>Drama,Crime</td>\n",
       "      <td>en</td>\n",
       "      <td>In the continuing saga of the Corleone crime f...</td>\n",
       "      <td>57.749</td>\n",
       "      <td>1974-12-20</td>\n",
       "      <td>8.6</td>\n",
       "      <td>9811</td>\n",
       "      <td>240</td>\n",
       "      <td>[{\"cast_id\": 8, \"character\": \"Don Michael Corl...</td>\n",
       "      <td>[{\"credit_id\": \"52fe422bc3a36847f8009501\", \"de...</td>\n",
       "    </tr>\n",
       "    <tr>\n",
       "      <th>4</th>\n",
       "      <td>129</td>\n",
       "      <td>Spirited Away</td>\n",
       "      <td>Animation,Family,Fantasy</td>\n",
       "      <td>ja</td>\n",
       "      <td>A young girl, Chihiro, becomes trapped in a st...</td>\n",
       "      <td>92.056</td>\n",
       "      <td>2001-07-20</td>\n",
       "      <td>8.5</td>\n",
       "      <td>13093</td>\n",
       "      <td>129</td>\n",
       "      <td>[{\"cast_id\": 3, \"character\": \"Chihiro (voice)\"...</td>\n",
       "      <td>[{\"credit_id\": \"571e4beec3a3683393000236\", \"de...</td>\n",
       "    </tr>\n",
       "    <tr>\n",
       "      <th>...</th>\n",
       "      <td>...</td>\n",
       "      <td>...</td>\n",
       "      <td>...</td>\n",
       "      <td>...</td>\n",
       "      <td>...</td>\n",
       "      <td>...</td>\n",
       "      <td>...</td>\n",
       "      <td>...</td>\n",
       "      <td>...</td>\n",
       "      <td>...</td>\n",
       "      <td>...</td>\n",
       "      <td>...</td>\n",
       "    </tr>\n",
       "    <tr>\n",
       "      <th>3564</th>\n",
       "      <td>297596</td>\n",
       "      <td>Dying of the Light</td>\n",
       "      <td>Thriller,Drama</td>\n",
       "      <td>en</td>\n",
       "      <td>Evan Lake, a veteran CIA agent, has been order...</td>\n",
       "      <td>10.090</td>\n",
       "      <td>2014-12-04</td>\n",
       "      <td>4.7</td>\n",
       "      <td>260</td>\n",
       "      <td>297596</td>\n",
       "      <td>[{\"cast_id\": 4, \"character\": \"Evan Lake\", \"cre...</td>\n",
       "      <td>[{\"credit_id\": \"546b104292514117ea000f92\", \"de...</td>\n",
       "    </tr>\n",
       "    <tr>\n",
       "      <th>3565</th>\n",
       "      <td>290825</td>\n",
       "      <td>Yoga Hosers</td>\n",
       "      <td>Comedy,Fantasy,Horror</td>\n",
       "      <td>en</td>\n",
       "      <td>Two teenage yoga enthusiasts team up with a le...</td>\n",
       "      <td>10.646</td>\n",
       "      <td>2016-07-08</td>\n",
       "      <td>4.7</td>\n",
       "      <td>342</td>\n",
       "      <td>290825</td>\n",
       "      <td>[{\"cast_id\": 16, \"character\": \"Colleen Collett...</td>\n",
       "      <td>[{\"credit_id\": \"54892e6892514161c7000ce9\", \"de...</td>\n",
       "    </tr>\n",
       "    <tr>\n",
       "      <th>3566</th>\n",
       "      <td>146203</td>\n",
       "      <td>The Last Exorcism Part II</td>\n",
       "      <td>Horror,Thriller</td>\n",
       "      <td>en</td>\n",
       "      <td>As Nell Sweetzer tries to build a new life aft...</td>\n",
       "      <td>15.757</td>\n",
       "      <td>2013-02-28</td>\n",
       "      <td>4.7</td>\n",
       "      <td>444</td>\n",
       "      <td>146203</td>\n",
       "      <td>[{\"cast_id\": 1, \"character\": \"Nell Sweetzer\", ...</td>\n",
       "      <td>[{\"credit_id\": \"52fe4b779251416c75103b75\", \"de...</td>\n",
       "    </tr>\n",
       "    <tr>\n",
       "      <th>3567</th>\n",
       "      <td>10196</td>\n",
       "      <td>The Last Airbender</td>\n",
       "      <td>Action,Adventure,Fantasy</td>\n",
       "      <td>en</td>\n",
       "      <td>The story follows the adventures of Aang, a yo...</td>\n",
       "      <td>98.322</td>\n",
       "      <td>2010-06-30</td>\n",
       "      <td>4.7</td>\n",
       "      <td>3347</td>\n",
       "      <td>10196</td>\n",
       "      <td>[{\"cast_id\": 2, \"character\": \"Aang\", \"credit_i...</td>\n",
       "      <td>[{\"credit_id\": \"52fe433f9251416c750092c9\", \"de...</td>\n",
       "    </tr>\n",
       "    <tr>\n",
       "      <th>3568</th>\n",
       "      <td>2312</td>\n",
       "      <td>In the Name of the King: A Dungeon Siege Tale</td>\n",
       "      <td>Adventure,Fantasy,Action,Drama</td>\n",
       "      <td>en</td>\n",
       "      <td>A man named Farmer sets out to rescue his kidn...</td>\n",
       "      <td>15.159</td>\n",
       "      <td>2007-11-29</td>\n",
       "      <td>4.7</td>\n",
       "      <td>668</td>\n",
       "      <td>2312</td>\n",
       "      <td>[{\"cast_id\": 13, \"character\": \"Farmer\", \"credi...</td>\n",
       "      <td>[{\"credit_id\": \"52fe434dc3a36847f8049dd7\", \"de...</td>\n",
       "    </tr>\n",
       "  </tbody>\n",
       "</table>\n",
       "<p>3569 rows × 12 columns</p>\n",
       "</div>"
      ],
      "text/plain": [
       "          id                                          title  \\\n",
       "0        278                       The Shawshank Redemption   \n",
       "1        238                                  The Godfather   \n",
       "2        424                               Schindler's List   \n",
       "3        240                         The Godfather: Part II   \n",
       "4        129                                  Spirited Away   \n",
       "...      ...                                            ...   \n",
       "3564  297596                             Dying of the Light   \n",
       "3565  290825                                    Yoga Hosers   \n",
       "3566  146203                      The Last Exorcism Part II   \n",
       "3567   10196                             The Last Airbender   \n",
       "3568    2312  In the Name of the King: A Dungeon Siege Tale   \n",
       "\n",
       "                               genre original_language  \\\n",
       "0                        Drama,Crime                en   \n",
       "1                        Drama,Crime                en   \n",
       "2                  Drama,History,War                en   \n",
       "3                        Drama,Crime                en   \n",
       "4           Animation,Family,Fantasy                ja   \n",
       "...                              ...               ...   \n",
       "3564                  Thriller,Drama                en   \n",
       "3565           Comedy,Fantasy,Horror                en   \n",
       "3566                 Horror,Thriller                en   \n",
       "3567        Action,Adventure,Fantasy                en   \n",
       "3568  Adventure,Fantasy,Action,Drama                en   \n",
       "\n",
       "                                               overview  popularity  \\\n",
       "0     Framed in the 1940s for the double murder of h...      94.075   \n",
       "1     Spanning the years 1945 to 1955, a chronicle o...      90.585   \n",
       "2     The true story of how businessman Oskar Schind...      44.761   \n",
       "3     In the continuing saga of the Corleone crime f...      57.749   \n",
       "4     A young girl, Chihiro, becomes trapped in a st...      92.056   \n",
       "...                                                 ...         ...   \n",
       "3564  Evan Lake, a veteran CIA agent, has been order...      10.090   \n",
       "3565  Two teenage yoga enthusiasts team up with a le...      10.646   \n",
       "3566  As Nell Sweetzer tries to build a new life aft...      15.757   \n",
       "3567  The story follows the adventures of Aang, a yo...      98.322   \n",
       "3568  A man named Farmer sets out to rescue his kidn...      15.159   \n",
       "\n",
       "     release_date  vote_average  vote_count  movie_id  \\\n",
       "0      1994-09-23           8.7       21862       278   \n",
       "1      1972-03-14           8.7       16280       238   \n",
       "2      1993-12-15           8.6       12959       424   \n",
       "3      1974-12-20           8.6        9811       240   \n",
       "4      2001-07-20           8.5       13093       129   \n",
       "...           ...           ...         ...       ...   \n",
       "3564   2014-12-04           4.7         260    297596   \n",
       "3565   2016-07-08           4.7         342    290825   \n",
       "3566   2013-02-28           4.7         444    146203   \n",
       "3567   2010-06-30           4.7        3347     10196   \n",
       "3568   2007-11-29           4.7         668      2312   \n",
       "\n",
       "                                                   cast  \\\n",
       "0     [{\"cast_id\": 3, \"character\": \"Andy Dufresne\", ...   \n",
       "1     [{\"cast_id\": 5, \"character\": \"Don Vito Corleon...   \n",
       "2     [{\"cast_id\": 14, \"character\": \"Oskar Schindler...   \n",
       "3     [{\"cast_id\": 8, \"character\": \"Don Michael Corl...   \n",
       "4     [{\"cast_id\": 3, \"character\": \"Chihiro (voice)\"...   \n",
       "...                                                 ...   \n",
       "3564  [{\"cast_id\": 4, \"character\": \"Evan Lake\", \"cre...   \n",
       "3565  [{\"cast_id\": 16, \"character\": \"Colleen Collett...   \n",
       "3566  [{\"cast_id\": 1, \"character\": \"Nell Sweetzer\", ...   \n",
       "3567  [{\"cast_id\": 2, \"character\": \"Aang\", \"credit_i...   \n",
       "3568  [{\"cast_id\": 13, \"character\": \"Farmer\", \"credi...   \n",
       "\n",
       "                                                   crew  \n",
       "0     [{\"credit_id\": \"52fe4231c3a36847f800b153\", \"de...  \n",
       "1     [{\"credit_id\": \"52fe422bc3a36847f80093c9\", \"de...  \n",
       "2     [{\"credit_id\": \"52fe4242c3a36847f8010303\", \"de...  \n",
       "3     [{\"credit_id\": \"52fe422bc3a36847f8009501\", \"de...  \n",
       "4     [{\"credit_id\": \"571e4beec3a3683393000236\", \"de...  \n",
       "...                                                 ...  \n",
       "3564  [{\"credit_id\": \"546b104292514117ea000f92\", \"de...  \n",
       "3565  [{\"credit_id\": \"54892e6892514161c7000ce9\", \"de...  \n",
       "3566  [{\"credit_id\": \"52fe4b779251416c75103b75\", \"de...  \n",
       "3567  [{\"credit_id\": \"52fe433f9251416c750092c9\", \"de...  \n",
       "3568  [{\"credit_id\": \"52fe434dc3a36847f8049dd7\", \"de...  \n",
       "\n",
       "[3569 rows x 12 columns]"
      ]
     },
     "execution_count": 22,
     "metadata": {},
     "output_type": "execute_result"
    }
   ],
   "source": [
    "movies = pd.read_csv(\"movies_dataset.csv\")\n",
    "credits = pd.read_csv(\"tmdb_5000_credits.csv\")\n",
    "movies = movies.merge(credits,on='title')\n",
    "movies"
   ]
  },
  {
   "cell_type": "code",
   "execution_count": 23,
   "id": "951a25f7-190a-41b1-8c24-75a4eb49942a",
   "metadata": {},
   "outputs": [
    {
     "data": {
      "text/plain": [
       "Index(['id', 'title', 'genre', 'original_language', 'overview', 'popularity',\n",
       "       'release_date', 'vote_average', 'vote_count', 'movie_id', 'cast',\n",
       "       'crew'],\n",
       "      dtype='object')"
      ]
     },
     "execution_count": 23,
     "metadata": {},
     "output_type": "execute_result"
    }
   ],
   "source": [
    "movies.columns"
   ]
  },
  {
   "cell_type": "code",
   "execution_count": 24,
   "id": "57299037-2f96-4da2-a6a4-1b643289d97b",
   "metadata": {},
   "outputs": [
    {
     "data": {
      "text/html": [
       "<div>\n",
       "<style scoped>\n",
       "    .dataframe tbody tr th:only-of-type {\n",
       "        vertical-align: middle;\n",
       "    }\n",
       "\n",
       "    .dataframe tbody tr th {\n",
       "        vertical-align: top;\n",
       "    }\n",
       "\n",
       "    .dataframe thead th {\n",
       "        text-align: right;\n",
       "    }\n",
       "</style>\n",
       "<table border=\"1\" class=\"dataframe\">\n",
       "  <thead>\n",
       "    <tr style=\"text-align: right;\">\n",
       "      <th></th>\n",
       "      <th>id</th>\n",
       "      <th>popularity</th>\n",
       "      <th>vote_average</th>\n",
       "      <th>vote_count</th>\n",
       "      <th>movie_id</th>\n",
       "    </tr>\n",
       "  </thead>\n",
       "  <tbody>\n",
       "    <tr>\n",
       "      <th>count</th>\n",
       "      <td>3569.000000</td>\n",
       "      <td>3569.000000</td>\n",
       "      <td>3569.000000</td>\n",
       "      <td>3569.000000</td>\n",
       "      <td>3569.000000</td>\n",
       "    </tr>\n",
       "    <tr>\n",
       "      <th>mean</th>\n",
       "      <td>52385.373494</td>\n",
       "      <td>29.729565</td>\n",
       "      <td>6.569431</td>\n",
       "      <td>2604.341552</td>\n",
       "      <td>45849.753713</td>\n",
       "    </tr>\n",
       "    <tr>\n",
       "      <th>std</th>\n",
       "      <td>96903.599921</td>\n",
       "      <td>42.356581</td>\n",
       "      <td>0.745197</td>\n",
       "      <td>3515.958140</td>\n",
       "      <td>77351.340494</td>\n",
       "    </tr>\n",
       "    <tr>\n",
       "      <th>min</th>\n",
       "      <td>5.000000</td>\n",
       "      <td>1.235000</td>\n",
       "      <td>4.600000</td>\n",
       "      <td>200.000000</td>\n",
       "      <td>5.000000</td>\n",
       "    </tr>\n",
       "    <tr>\n",
       "      <th>25%</th>\n",
       "      <td>5236.000000</td>\n",
       "      <td>10.965000</td>\n",
       "      <td>6.000000</td>\n",
       "      <td>559.000000</td>\n",
       "      <td>4960.000000</td>\n",
       "    </tr>\n",
       "    <tr>\n",
       "      <th>50%</th>\n",
       "      <td>11130.000000</td>\n",
       "      <td>16.942000</td>\n",
       "      <td>6.600000</td>\n",
       "      <td>1301.000000</td>\n",
       "      <td>10950.000000</td>\n",
       "    </tr>\n",
       "    <tr>\n",
       "      <th>75%</th>\n",
       "      <td>47964.000000</td>\n",
       "      <td>32.367000</td>\n",
       "      <td>7.100000</td>\n",
       "      <td>3115.000000</td>\n",
       "      <td>45317.000000</td>\n",
       "    </tr>\n",
       "    <tr>\n",
       "      <th>max</th>\n",
       "      <td>928381.000000</td>\n",
       "      <td>1242.491000</td>\n",
       "      <td>8.700000</td>\n",
       "      <td>31917.000000</td>\n",
       "      <td>417859.000000</td>\n",
       "    </tr>\n",
       "  </tbody>\n",
       "</table>\n",
       "</div>"
      ],
      "text/plain": [
       "                  id   popularity  vote_average    vote_count       movie_id\n",
       "count    3569.000000  3569.000000   3569.000000   3569.000000    3569.000000\n",
       "mean    52385.373494    29.729565      6.569431   2604.341552   45849.753713\n",
       "std     96903.599921    42.356581      0.745197   3515.958140   77351.340494\n",
       "min         5.000000     1.235000      4.600000    200.000000       5.000000\n",
       "25%      5236.000000    10.965000      6.000000    559.000000    4960.000000\n",
       "50%     11130.000000    16.942000      6.600000   1301.000000   10950.000000\n",
       "75%     47964.000000    32.367000      7.100000   3115.000000   45317.000000\n",
       "max    928381.000000  1242.491000      8.700000  31917.000000  417859.000000"
      ]
     },
     "execution_count": 24,
     "metadata": {},
     "output_type": "execute_result"
    }
   ],
   "source": [
    "movies.describe()"
   ]
  },
  {
   "cell_type": "code",
   "execution_count": 25,
   "id": "d4532521-02d9-4f76-9b6b-4c094f4d44fc",
   "metadata": {},
   "outputs": [
    {
     "data": {
      "text/plain": [
       "genre\n",
       "Drama                             191\n",
       "Comedy                            168\n",
       "Drama,Romance                     112\n",
       "Comedy,Romance                    102\n",
       "Comedy,Drama                       81\n",
       "                                 ... \n",
       "Romance,History,Comedy              1\n",
       "Horror,Mystery,Drama,Fantasy        1\n",
       "Music,Drama,Romance,Crime           1\n",
       "Comedy,Drama,History,Romance        1\n",
       "Adventure,Fantasy,Action,Drama      1\n",
       "Name: count, Length: 1057, dtype: int64"
      ]
     },
     "execution_count": 25,
     "metadata": {},
     "output_type": "execute_result"
    }
   ],
   "source": [
    "movies.genre.value_counts()"
   ]
  },
  {
   "cell_type": "code",
   "execution_count": 26,
   "id": "93481a87-bd81-4051-be04-9b740008d0b9",
   "metadata": {},
   "outputs": [
    {
     "data": {
      "text/plain": [
       "0                          Drama,Crime\n",
       "1                          Drama,Crime\n",
       "2                    Drama,History,War\n",
       "3                          Drama,Crime\n",
       "4             Animation,Family,Fantasy\n",
       "                     ...              \n",
       "3564                    Thriller,Drama\n",
       "3565             Comedy,Fantasy,Horror\n",
       "3566                   Horror,Thriller\n",
       "3567          Action,Adventure,Fantasy\n",
       "3568    Adventure,Fantasy,Action,Drama\n",
       "Name: genre, Length: 3569, dtype: object"
      ]
     },
     "execution_count": 26,
     "metadata": {},
     "output_type": "execute_result"
    }
   ],
   "source": [
    "genres_df = movies['genre'].explode()\n",
    "genres_df"
   ]
  },
  {
   "cell_type": "code",
   "execution_count": 27,
   "id": "82015d39-d712-481e-889b-3f2b7c6da663",
   "metadata": {},
   "outputs": [
    {
     "data": {
      "text/plain": [
       "array(['Drama,Crime', 'Drama,History,War', 'Animation,Family,Fantasy',\n",
       "       ..., 'Horror,Thriller,Science Fiction,Mystery',\n",
       "       'Action,Comedy,Thriller,Crime,Science Fiction',\n",
       "       'Adventure,Fantasy,Action,Drama'], dtype=object)"
      ]
     },
     "execution_count": 27,
     "metadata": {},
     "output_type": "execute_result"
    }
   ],
   "source": [
    "movies.genre.unique()"
   ]
  },
  {
   "cell_type": "code",
   "execution_count": 28,
   "id": "0d721300-30a0-4cda-9ebd-b1f85e1e1b85",
   "metadata": {},
   "outputs": [
    {
     "name": "stdout",
     "output_type": "stream",
     "text": [
      "<class 'pandas.core.frame.DataFrame'>\n",
      "RangeIndex: 3569 entries, 0 to 3568\n",
      "Data columns (total 12 columns):\n",
      " #   Column             Non-Null Count  Dtype  \n",
      "---  ------             --------------  -----  \n",
      " 0   id                 3569 non-null   int64  \n",
      " 1   title              3569 non-null   object \n",
      " 2   genre              3569 non-null   object \n",
      " 3   original_language  3569 non-null   object \n",
      " 4   overview           3569 non-null   object \n",
      " 5   popularity         3569 non-null   float64\n",
      " 6   release_date       3569 non-null   object \n",
      " 7   vote_average       3569 non-null   float64\n",
      " 8   vote_count         3569 non-null   int64  \n",
      " 9   movie_id           3569 non-null   int64  \n",
      " 10  cast               3569 non-null   object \n",
      " 11  crew               3569 non-null   object \n",
      "dtypes: float64(2), int64(3), object(7)\n",
      "memory usage: 334.7+ KB\n"
     ]
    }
   ],
   "source": [
    "movies.info()"
   ]
  },
  {
   "cell_type": "code",
   "execution_count": 29,
   "id": "3d632055-a2ee-458c-98df-55fba199661d",
   "metadata": {},
   "outputs": [
    {
     "data": {
      "text/plain": [
       "Index(['id', 'title', 'genre', 'original_language', 'overview', 'popularity',\n",
       "       'release_date', 'vote_average', 'vote_count', 'movie_id', 'cast',\n",
       "       'crew'],\n",
       "      dtype='object')"
      ]
     },
     "execution_count": 29,
     "metadata": {},
     "output_type": "execute_result"
    }
   ],
   "source": [
    "movies.columns"
   ]
  },
  {
   "cell_type": "code",
   "execution_count": 30,
   "id": "fc46ecca-8f12-4fb9-b5e3-d7abb4c9a532",
   "metadata": {},
   "outputs": [],
   "source": [
    "movies = movies[['id','title','genre','overview','release_date','crew','cast']]"
   ]
  },
  {
   "cell_type": "code",
   "execution_count": 31,
   "id": "5d43f3ad-5dba-41c2-ad7e-5cd22bf06b59",
   "metadata": {},
   "outputs": [],
   "source": [
    "import ast"
   ]
  },
  {
   "cell_type": "code",
   "execution_count": 32,
   "id": "0bf0bdb4-02f4-4f31-becd-93819bacf7e4",
   "metadata": {},
   "outputs": [],
   "source": [
    "def fetch_director(text):\n",
    "    L = []\n",
    "    for i in ast.literal_eval(text):\n",
    "        if i['job'] == 'Director':\n",
    "            L.append(i['name'])\n",
    "    return L "
   ]
  },
  {
   "cell_type": "code",
   "execution_count": 33,
   "id": "0313716c-f733-4d15-9ad9-21993a52252c",
   "metadata": {},
   "outputs": [
    {
     "name": "stderr",
     "output_type": "stream",
     "text": [
      "C:\\Users\\dharm\\AppData\\Local\\Temp\\ipykernel_10532\\1771954881.py:1: SettingWithCopyWarning: \n",
      "A value is trying to be set on a copy of a slice from a DataFrame.\n",
      "Try using .loc[row_indexer,col_indexer] = value instead\n",
      "\n",
      "See the caveats in the documentation: https://pandas.pydata.org/pandas-docs/stable/user_guide/indexing.html#returning-a-view-versus-a-copy\n",
      "  movies['crew'] = movies['crew'].apply(fetch_director)\n"
     ]
    },
    {
     "data": {
      "text/html": [
       "<div>\n",
       "<style scoped>\n",
       "    .dataframe tbody tr th:only-of-type {\n",
       "        vertical-align: middle;\n",
       "    }\n",
       "\n",
       "    .dataframe tbody tr th {\n",
       "        vertical-align: top;\n",
       "    }\n",
       "\n",
       "    .dataframe thead th {\n",
       "        text-align: right;\n",
       "    }\n",
       "</style>\n",
       "<table border=\"1\" class=\"dataframe\">\n",
       "  <thead>\n",
       "    <tr style=\"text-align: right;\">\n",
       "      <th></th>\n",
       "      <th>id</th>\n",
       "      <th>title</th>\n",
       "      <th>genre</th>\n",
       "      <th>overview</th>\n",
       "      <th>release_date</th>\n",
       "      <th>crew</th>\n",
       "      <th>cast</th>\n",
       "    </tr>\n",
       "  </thead>\n",
       "  <tbody>\n",
       "    <tr>\n",
       "      <th>0</th>\n",
       "      <td>278</td>\n",
       "      <td>The Shawshank Redemption</td>\n",
       "      <td>Drama,Crime</td>\n",
       "      <td>Framed in the 1940s for the double murder of h...</td>\n",
       "      <td>1994-09-23</td>\n",
       "      <td>[Frank Darabont]</td>\n",
       "      <td>[{\"cast_id\": 3, \"character\": \"Andy Dufresne\", ...</td>\n",
       "    </tr>\n",
       "    <tr>\n",
       "      <th>1</th>\n",
       "      <td>238</td>\n",
       "      <td>The Godfather</td>\n",
       "      <td>Drama,Crime</td>\n",
       "      <td>Spanning the years 1945 to 1955, a chronicle o...</td>\n",
       "      <td>1972-03-14</td>\n",
       "      <td>[Francis Ford Coppola]</td>\n",
       "      <td>[{\"cast_id\": 5, \"character\": \"Don Vito Corleon...</td>\n",
       "    </tr>\n",
       "    <tr>\n",
       "      <th>2</th>\n",
       "      <td>424</td>\n",
       "      <td>Schindler's List</td>\n",
       "      <td>Drama,History,War</td>\n",
       "      <td>The true story of how businessman Oskar Schind...</td>\n",
       "      <td>1993-12-15</td>\n",
       "      <td>[Steven Spielberg]</td>\n",
       "      <td>[{\"cast_id\": 14, \"character\": \"Oskar Schindler...</td>\n",
       "    </tr>\n",
       "    <tr>\n",
       "      <th>3</th>\n",
       "      <td>240</td>\n",
       "      <td>The Godfather: Part II</td>\n",
       "      <td>Drama,Crime</td>\n",
       "      <td>In the continuing saga of the Corleone crime f...</td>\n",
       "      <td>1974-12-20</td>\n",
       "      <td>[Francis Ford Coppola]</td>\n",
       "      <td>[{\"cast_id\": 8, \"character\": \"Don Michael Corl...</td>\n",
       "    </tr>\n",
       "    <tr>\n",
       "      <th>4</th>\n",
       "      <td>129</td>\n",
       "      <td>Spirited Away</td>\n",
       "      <td>Animation,Family,Fantasy</td>\n",
       "      <td>A young girl, Chihiro, becomes trapped in a st...</td>\n",
       "      <td>2001-07-20</td>\n",
       "      <td>[Hayao Miyazaki]</td>\n",
       "      <td>[{\"cast_id\": 3, \"character\": \"Chihiro (voice)\"...</td>\n",
       "    </tr>\n",
       "    <tr>\n",
       "      <th>...</th>\n",
       "      <td>...</td>\n",
       "      <td>...</td>\n",
       "      <td>...</td>\n",
       "      <td>...</td>\n",
       "      <td>...</td>\n",
       "      <td>...</td>\n",
       "      <td>...</td>\n",
       "    </tr>\n",
       "    <tr>\n",
       "      <th>3564</th>\n",
       "      <td>297596</td>\n",
       "      <td>Dying of the Light</td>\n",
       "      <td>Thriller,Drama</td>\n",
       "      <td>Evan Lake, a veteran CIA agent, has been order...</td>\n",
       "      <td>2014-12-04</td>\n",
       "      <td>[Paul Schrader]</td>\n",
       "      <td>[{\"cast_id\": 4, \"character\": \"Evan Lake\", \"cre...</td>\n",
       "    </tr>\n",
       "    <tr>\n",
       "      <th>3565</th>\n",
       "      <td>290825</td>\n",
       "      <td>Yoga Hosers</td>\n",
       "      <td>Comedy,Fantasy,Horror</td>\n",
       "      <td>Two teenage yoga enthusiasts team up with a le...</td>\n",
       "      <td>2016-07-08</td>\n",
       "      <td>[Kevin Smith]</td>\n",
       "      <td>[{\"cast_id\": 16, \"character\": \"Colleen Collett...</td>\n",
       "    </tr>\n",
       "    <tr>\n",
       "      <th>3566</th>\n",
       "      <td>146203</td>\n",
       "      <td>The Last Exorcism Part II</td>\n",
       "      <td>Horror,Thriller</td>\n",
       "      <td>As Nell Sweetzer tries to build a new life aft...</td>\n",
       "      <td>2013-02-28</td>\n",
       "      <td>[Ed Gass-Donnelly]</td>\n",
       "      <td>[{\"cast_id\": 1, \"character\": \"Nell Sweetzer\", ...</td>\n",
       "    </tr>\n",
       "    <tr>\n",
       "      <th>3567</th>\n",
       "      <td>10196</td>\n",
       "      <td>The Last Airbender</td>\n",
       "      <td>Action,Adventure,Fantasy</td>\n",
       "      <td>The story follows the adventures of Aang, a yo...</td>\n",
       "      <td>2010-06-30</td>\n",
       "      <td>[M. Night Shyamalan]</td>\n",
       "      <td>[{\"cast_id\": 2, \"character\": \"Aang\", \"credit_i...</td>\n",
       "    </tr>\n",
       "    <tr>\n",
       "      <th>3568</th>\n",
       "      <td>2312</td>\n",
       "      <td>In the Name of the King: A Dungeon Siege Tale</td>\n",
       "      <td>Adventure,Fantasy,Action,Drama</td>\n",
       "      <td>A man named Farmer sets out to rescue his kidn...</td>\n",
       "      <td>2007-11-29</td>\n",
       "      <td>[Uwe Boll]</td>\n",
       "      <td>[{\"cast_id\": 13, \"character\": \"Farmer\", \"credi...</td>\n",
       "    </tr>\n",
       "  </tbody>\n",
       "</table>\n",
       "<p>3569 rows × 7 columns</p>\n",
       "</div>"
      ],
      "text/plain": [
       "          id                                          title  \\\n",
       "0        278                       The Shawshank Redemption   \n",
       "1        238                                  The Godfather   \n",
       "2        424                               Schindler's List   \n",
       "3        240                         The Godfather: Part II   \n",
       "4        129                                  Spirited Away   \n",
       "...      ...                                            ...   \n",
       "3564  297596                             Dying of the Light   \n",
       "3565  290825                                    Yoga Hosers   \n",
       "3566  146203                      The Last Exorcism Part II   \n",
       "3567   10196                             The Last Airbender   \n",
       "3568    2312  In the Name of the King: A Dungeon Siege Tale   \n",
       "\n",
       "                               genre  \\\n",
       "0                        Drama,Crime   \n",
       "1                        Drama,Crime   \n",
       "2                  Drama,History,War   \n",
       "3                        Drama,Crime   \n",
       "4           Animation,Family,Fantasy   \n",
       "...                              ...   \n",
       "3564                  Thriller,Drama   \n",
       "3565           Comedy,Fantasy,Horror   \n",
       "3566                 Horror,Thriller   \n",
       "3567        Action,Adventure,Fantasy   \n",
       "3568  Adventure,Fantasy,Action,Drama   \n",
       "\n",
       "                                               overview release_date  \\\n",
       "0     Framed in the 1940s for the double murder of h...   1994-09-23   \n",
       "1     Spanning the years 1945 to 1955, a chronicle o...   1972-03-14   \n",
       "2     The true story of how businessman Oskar Schind...   1993-12-15   \n",
       "3     In the continuing saga of the Corleone crime f...   1974-12-20   \n",
       "4     A young girl, Chihiro, becomes trapped in a st...   2001-07-20   \n",
       "...                                                 ...          ...   \n",
       "3564  Evan Lake, a veteran CIA agent, has been order...   2014-12-04   \n",
       "3565  Two teenage yoga enthusiasts team up with a le...   2016-07-08   \n",
       "3566  As Nell Sweetzer tries to build a new life aft...   2013-02-28   \n",
       "3567  The story follows the adventures of Aang, a yo...   2010-06-30   \n",
       "3568  A man named Farmer sets out to rescue his kidn...   2007-11-29   \n",
       "\n",
       "                        crew  \\\n",
       "0           [Frank Darabont]   \n",
       "1     [Francis Ford Coppola]   \n",
       "2         [Steven Spielberg]   \n",
       "3     [Francis Ford Coppola]   \n",
       "4           [Hayao Miyazaki]   \n",
       "...                      ...   \n",
       "3564         [Paul Schrader]   \n",
       "3565           [Kevin Smith]   \n",
       "3566      [Ed Gass-Donnelly]   \n",
       "3567    [M. Night Shyamalan]   \n",
       "3568              [Uwe Boll]   \n",
       "\n",
       "                                                   cast  \n",
       "0     [{\"cast_id\": 3, \"character\": \"Andy Dufresne\", ...  \n",
       "1     [{\"cast_id\": 5, \"character\": \"Don Vito Corleon...  \n",
       "2     [{\"cast_id\": 14, \"character\": \"Oskar Schindler...  \n",
       "3     [{\"cast_id\": 8, \"character\": \"Don Michael Corl...  \n",
       "4     [{\"cast_id\": 3, \"character\": \"Chihiro (voice)\"...  \n",
       "...                                                 ...  \n",
       "3564  [{\"cast_id\": 4, \"character\": \"Evan Lake\", \"cre...  \n",
       "3565  [{\"cast_id\": 16, \"character\": \"Colleen Collett...  \n",
       "3566  [{\"cast_id\": 1, \"character\": \"Nell Sweetzer\", ...  \n",
       "3567  [{\"cast_id\": 2, \"character\": \"Aang\", \"credit_i...  \n",
       "3568  [{\"cast_id\": 13, \"character\": \"Farmer\", \"credi...  \n",
       "\n",
       "[3569 rows x 7 columns]"
      ]
     },
     "execution_count": 33,
     "metadata": {},
     "output_type": "execute_result"
    }
   ],
   "source": [
    "movies['crew'] = movies['crew'].apply(fetch_director)\n",
    "movies"
   ]
  },
  {
   "cell_type": "code",
   "execution_count": 34,
   "id": "7a35c063-d818-4d2d-aed2-d04069570950",
   "metadata": {},
   "outputs": [],
   "source": [
    "def convert(text):\n",
    "    L = \"\"\n",
    "    for i in ast.literal_eval(text):\n",
    "        L +=i['name']\n",
    "        L +=\",\"\n",
    "    return L "
   ]
  },
  {
   "cell_type": "code",
   "execution_count": 35,
   "id": "839d756f-e62f-403d-b11e-0fb2606c3d00",
   "metadata": {},
   "outputs": [
    {
     "name": "stderr",
     "output_type": "stream",
     "text": [
      "C:\\Users\\dharm\\AppData\\Local\\Temp\\ipykernel_10532\\3226101567.py:1: SettingWithCopyWarning: \n",
      "A value is trying to be set on a copy of a slice from a DataFrame.\n",
      "Try using .loc[row_indexer,col_indexer] = value instead\n",
      "\n",
      "See the caveats in the documentation: https://pandas.pydata.org/pandas-docs/stable/user_guide/indexing.html#returning-a-view-versus-a-copy\n",
      "  movies['cast'] = movies['cast'].apply(convert)\n"
     ]
    }
   ],
   "source": [
    "movies['cast'] = movies['cast'].apply(convert)\n"
   ]
  },
  {
   "cell_type": "code",
   "execution_count": 36,
   "id": "bb4cca64-12d6-4ea3-bf1b-e7362dca44ca",
   "metadata": {},
   "outputs": [],
   "source": [
    "def filter_cast(cast):\n",
    "    count = 0\n",
    "    for i in range(len(cast)):\n",
    "        if cast[i]==\",\":\n",
    "            count +=1\n",
    "        if count==3:\n",
    "            return cast[0:i]"
   ]
  },
  {
   "cell_type": "code",
   "execution_count": 37,
   "id": "f308a030-d8d1-4e92-bf35-d514bb266251",
   "metadata": {},
   "outputs": [
    {
     "name": "stderr",
     "output_type": "stream",
     "text": [
      "C:\\Users\\dharm\\AppData\\Local\\Temp\\ipykernel_10532\\2243993313.py:1: SettingWithCopyWarning: \n",
      "A value is trying to be set on a copy of a slice from a DataFrame.\n",
      "Try using .loc[row_indexer,col_indexer] = value instead\n",
      "\n",
      "See the caveats in the documentation: https://pandas.pydata.org/pandas-docs/stable/user_guide/indexing.html#returning-a-view-versus-a-copy\n",
      "  movies['cast'] = movies['cast'].apply(filter_cast)\n"
     ]
    }
   ],
   "source": [
    "movies['cast'] = movies['cast'].apply(filter_cast)"
   ]
  },
  {
   "cell_type": "code",
   "execution_count": 38,
   "id": "6e7d32e2-fcc4-477f-a4c7-4d832a1eabdd",
   "metadata": {},
   "outputs": [
    {
     "name": "stderr",
     "output_type": "stream",
     "text": [
      "C:\\Users\\dharm\\AppData\\Local\\Temp\\ipykernel_10532\\558679573.py:1: SettingWithCopyWarning: \n",
      "A value is trying to be set on a copy of a slice from a DataFrame.\n",
      "Try using .loc[row_indexer,col_indexer] = value instead\n",
      "\n",
      "See the caveats in the documentation: https://pandas.pydata.org/pandas-docs/stable/user_guide/indexing.html#returning-a-view-versus-a-copy\n",
      "  movies['tags'] = movies['overview']+movies['genre']+movies['cast']\n"
     ]
    },
    {
     "data": {
      "text/html": [
       "<div>\n",
       "<style scoped>\n",
       "    .dataframe tbody tr th:only-of-type {\n",
       "        vertical-align: middle;\n",
       "    }\n",
       "\n",
       "    .dataframe tbody tr th {\n",
       "        vertical-align: top;\n",
       "    }\n",
       "\n",
       "    .dataframe thead th {\n",
       "        text-align: right;\n",
       "    }\n",
       "</style>\n",
       "<table border=\"1\" class=\"dataframe\">\n",
       "  <thead>\n",
       "    <tr style=\"text-align: right;\">\n",
       "      <th></th>\n",
       "      <th>id</th>\n",
       "      <th>title</th>\n",
       "      <th>genre</th>\n",
       "      <th>overview</th>\n",
       "      <th>release_date</th>\n",
       "      <th>crew</th>\n",
       "      <th>cast</th>\n",
       "      <th>tags</th>\n",
       "    </tr>\n",
       "  </thead>\n",
       "  <tbody>\n",
       "    <tr>\n",
       "      <th>0</th>\n",
       "      <td>278</td>\n",
       "      <td>The Shawshank Redemption</td>\n",
       "      <td>Drama,Crime</td>\n",
       "      <td>Framed in the 1940s for the double murder of h...</td>\n",
       "      <td>1994-09-23</td>\n",
       "      <td>[Frank Darabont]</td>\n",
       "      <td>Tim Robbins,Morgan Freeman,Bob Gunton</td>\n",
       "      <td>Framed in the 1940s for the double murder of h...</td>\n",
       "    </tr>\n",
       "    <tr>\n",
       "      <th>1</th>\n",
       "      <td>238</td>\n",
       "      <td>The Godfather</td>\n",
       "      <td>Drama,Crime</td>\n",
       "      <td>Spanning the years 1945 to 1955, a chronicle o...</td>\n",
       "      <td>1972-03-14</td>\n",
       "      <td>[Francis Ford Coppola]</td>\n",
       "      <td>Marlon Brando,Al Pacino,James Caan</td>\n",
       "      <td>Spanning the years 1945 to 1955, a chronicle o...</td>\n",
       "    </tr>\n",
       "    <tr>\n",
       "      <th>2</th>\n",
       "      <td>424</td>\n",
       "      <td>Schindler's List</td>\n",
       "      <td>Drama,History,War</td>\n",
       "      <td>The true story of how businessman Oskar Schind...</td>\n",
       "      <td>1993-12-15</td>\n",
       "      <td>[Steven Spielberg]</td>\n",
       "      <td>Liam Neeson,Ben Kingsley,Ralph Fiennes</td>\n",
       "      <td>The true story of how businessman Oskar Schind...</td>\n",
       "    </tr>\n",
       "    <tr>\n",
       "      <th>3</th>\n",
       "      <td>240</td>\n",
       "      <td>The Godfather: Part II</td>\n",
       "      <td>Drama,Crime</td>\n",
       "      <td>In the continuing saga of the Corleone crime f...</td>\n",
       "      <td>1974-12-20</td>\n",
       "      <td>[Francis Ford Coppola]</td>\n",
       "      <td>Al Pacino,Robert Duvall,Diane Keaton</td>\n",
       "      <td>In the continuing saga of the Corleone crime f...</td>\n",
       "    </tr>\n",
       "    <tr>\n",
       "      <th>4</th>\n",
       "      <td>129</td>\n",
       "      <td>Spirited Away</td>\n",
       "      <td>Animation,Family,Fantasy</td>\n",
       "      <td>A young girl, Chihiro, becomes trapped in a st...</td>\n",
       "      <td>2001-07-20</td>\n",
       "      <td>[Hayao Miyazaki]</td>\n",
       "      <td>Rumi Hiiragi,Miyu Irino,Mari Natsuki</td>\n",
       "      <td>A young girl, Chihiro, becomes trapped in a st...</td>\n",
       "    </tr>\n",
       "    <tr>\n",
       "      <th>...</th>\n",
       "      <td>...</td>\n",
       "      <td>...</td>\n",
       "      <td>...</td>\n",
       "      <td>...</td>\n",
       "      <td>...</td>\n",
       "      <td>...</td>\n",
       "      <td>...</td>\n",
       "      <td>...</td>\n",
       "    </tr>\n",
       "    <tr>\n",
       "      <th>3564</th>\n",
       "      <td>297596</td>\n",
       "      <td>Dying of the Light</td>\n",
       "      <td>Thriller,Drama</td>\n",
       "      <td>Evan Lake, a veteran CIA agent, has been order...</td>\n",
       "      <td>2014-12-04</td>\n",
       "      <td>[Paul Schrader]</td>\n",
       "      <td>Nicolas Cage,Anton Yelchin,Alexander Karim</td>\n",
       "      <td>Evan Lake, a veteran CIA agent, has been order...</td>\n",
       "    </tr>\n",
       "    <tr>\n",
       "      <th>3565</th>\n",
       "      <td>290825</td>\n",
       "      <td>Yoga Hosers</td>\n",
       "      <td>Comedy,Fantasy,Horror</td>\n",
       "      <td>Two teenage yoga enthusiasts team up with a le...</td>\n",
       "      <td>2016-07-08</td>\n",
       "      <td>[Kevin Smith]</td>\n",
       "      <td>Lily-Rose Depp,Harley Quinn Smith,Justin Long</td>\n",
       "      <td>Two teenage yoga enthusiasts team up with a le...</td>\n",
       "    </tr>\n",
       "    <tr>\n",
       "      <th>3566</th>\n",
       "      <td>146203</td>\n",
       "      <td>The Last Exorcism Part II</td>\n",
       "      <td>Horror,Thriller</td>\n",
       "      <td>As Nell Sweetzer tries to build a new life aft...</td>\n",
       "      <td>2013-02-28</td>\n",
       "      <td>[Ed Gass-Donnelly]</td>\n",
       "      <td>Ashley Bell,Julia Garner,Andrew Sensenig</td>\n",
       "      <td>As Nell Sweetzer tries to build a new life aft...</td>\n",
       "    </tr>\n",
       "    <tr>\n",
       "      <th>3567</th>\n",
       "      <td>10196</td>\n",
       "      <td>The Last Airbender</td>\n",
       "      <td>Action,Adventure,Fantasy</td>\n",
       "      <td>The story follows the adventures of Aang, a yo...</td>\n",
       "      <td>2010-06-30</td>\n",
       "      <td>[M. Night Shyamalan]</td>\n",
       "      <td>Noah Ringer,Nicola Peltz,Jackson Rathbone</td>\n",
       "      <td>The story follows the adventures of Aang, a yo...</td>\n",
       "    </tr>\n",
       "    <tr>\n",
       "      <th>3568</th>\n",
       "      <td>2312</td>\n",
       "      <td>In the Name of the King: A Dungeon Siege Tale</td>\n",
       "      <td>Adventure,Fantasy,Action,Drama</td>\n",
       "      <td>A man named Farmer sets out to rescue his kidn...</td>\n",
       "      <td>2007-11-29</td>\n",
       "      <td>[Uwe Boll]</td>\n",
       "      <td>Jason Statham,John Rhys-Davies,Ray Liotta</td>\n",
       "      <td>A man named Farmer sets out to rescue his kidn...</td>\n",
       "    </tr>\n",
       "  </tbody>\n",
       "</table>\n",
       "<p>3569 rows × 8 columns</p>\n",
       "</div>"
      ],
      "text/plain": [
       "          id                                          title  \\\n",
       "0        278                       The Shawshank Redemption   \n",
       "1        238                                  The Godfather   \n",
       "2        424                               Schindler's List   \n",
       "3        240                         The Godfather: Part II   \n",
       "4        129                                  Spirited Away   \n",
       "...      ...                                            ...   \n",
       "3564  297596                             Dying of the Light   \n",
       "3565  290825                                    Yoga Hosers   \n",
       "3566  146203                      The Last Exorcism Part II   \n",
       "3567   10196                             The Last Airbender   \n",
       "3568    2312  In the Name of the King: A Dungeon Siege Tale   \n",
       "\n",
       "                               genre  \\\n",
       "0                        Drama,Crime   \n",
       "1                        Drama,Crime   \n",
       "2                  Drama,History,War   \n",
       "3                        Drama,Crime   \n",
       "4           Animation,Family,Fantasy   \n",
       "...                              ...   \n",
       "3564                  Thriller,Drama   \n",
       "3565           Comedy,Fantasy,Horror   \n",
       "3566                 Horror,Thriller   \n",
       "3567        Action,Adventure,Fantasy   \n",
       "3568  Adventure,Fantasy,Action,Drama   \n",
       "\n",
       "                                               overview release_date  \\\n",
       "0     Framed in the 1940s for the double murder of h...   1994-09-23   \n",
       "1     Spanning the years 1945 to 1955, a chronicle o...   1972-03-14   \n",
       "2     The true story of how businessman Oskar Schind...   1993-12-15   \n",
       "3     In the continuing saga of the Corleone crime f...   1974-12-20   \n",
       "4     A young girl, Chihiro, becomes trapped in a st...   2001-07-20   \n",
       "...                                                 ...          ...   \n",
       "3564  Evan Lake, a veteran CIA agent, has been order...   2014-12-04   \n",
       "3565  Two teenage yoga enthusiasts team up with a le...   2016-07-08   \n",
       "3566  As Nell Sweetzer tries to build a new life aft...   2013-02-28   \n",
       "3567  The story follows the adventures of Aang, a yo...   2010-06-30   \n",
       "3568  A man named Farmer sets out to rescue his kidn...   2007-11-29   \n",
       "\n",
       "                        crew                                           cast  \\\n",
       "0           [Frank Darabont]          Tim Robbins,Morgan Freeman,Bob Gunton   \n",
       "1     [Francis Ford Coppola]             Marlon Brando,Al Pacino,James Caan   \n",
       "2         [Steven Spielberg]         Liam Neeson,Ben Kingsley,Ralph Fiennes   \n",
       "3     [Francis Ford Coppola]           Al Pacino,Robert Duvall,Diane Keaton   \n",
       "4           [Hayao Miyazaki]           Rumi Hiiragi,Miyu Irino,Mari Natsuki   \n",
       "...                      ...                                            ...   \n",
       "3564         [Paul Schrader]     Nicolas Cage,Anton Yelchin,Alexander Karim   \n",
       "3565           [Kevin Smith]  Lily-Rose Depp,Harley Quinn Smith,Justin Long   \n",
       "3566      [Ed Gass-Donnelly]       Ashley Bell,Julia Garner,Andrew Sensenig   \n",
       "3567    [M. Night Shyamalan]      Noah Ringer,Nicola Peltz,Jackson Rathbone   \n",
       "3568              [Uwe Boll]      Jason Statham,John Rhys-Davies,Ray Liotta   \n",
       "\n",
       "                                                   tags  \n",
       "0     Framed in the 1940s for the double murder of h...  \n",
       "1     Spanning the years 1945 to 1955, a chronicle o...  \n",
       "2     The true story of how businessman Oskar Schind...  \n",
       "3     In the continuing saga of the Corleone crime f...  \n",
       "4     A young girl, Chihiro, becomes trapped in a st...  \n",
       "...                                                 ...  \n",
       "3564  Evan Lake, a veteran CIA agent, has been order...  \n",
       "3565  Two teenage yoga enthusiasts team up with a le...  \n",
       "3566  As Nell Sweetzer tries to build a new life aft...  \n",
       "3567  The story follows the adventures of Aang, a yo...  \n",
       "3568  A man named Farmer sets out to rescue his kidn...  \n",
       "\n",
       "[3569 rows x 8 columns]"
      ]
     },
     "execution_count": 38,
     "metadata": {},
     "output_type": "execute_result"
    }
   ],
   "source": [
    "movies['tags'] = movies['overview']+movies['genre']+movies['cast']\n",
    "movies"
   ]
  },
  {
   "cell_type": "code",
   "execution_count": 39,
   "id": "db722794-7763-47b5-9316-2480764e0db7",
   "metadata": {},
   "outputs": [],
   "source": [
    "# new_data = movies.drop(columns=['overview','genre'])\n",
    "# new_data"
   ]
  },
  {
   "cell_type": "code",
   "execution_count": 40,
   "id": "1aa618e0-ef21-44df-b7c6-5073869fbf45",
   "metadata": {},
   "outputs": [],
   "source": [
    "new_data = movies"
   ]
  },
  {
   "cell_type": "code",
   "execution_count": 41,
   "id": "6a78ae87-c68f-4a50-a6c9-f7c1fda62499",
   "metadata": {},
   "outputs": [
    {
     "data": {
      "text/plain": [
       "(3569, 8)"
      ]
     },
     "execution_count": 41,
     "metadata": {},
     "output_type": "execute_result"
    }
   ],
   "source": [
    "movies.shape"
   ]
  },
  {
   "cell_type": "code",
   "execution_count": 42,
   "id": "01d98b2a-b149-45a2-8966-777a88fe0679",
   "metadata": {},
   "outputs": [],
   "source": [
    "from sklearn.feature_extraction.text import CountVectorizer"
   ]
  },
  {
   "cell_type": "code",
   "execution_count": 43,
   "id": "b6facb15-b771-479c-b4bb-e1f92930f4e6",
   "metadata": {},
   "outputs": [],
   "source": [
    "cv = CountVectorizer(max_features=1750,stop_words='english')"
   ]
  },
  {
   "cell_type": "code",
   "execution_count": 44,
   "id": "48fa7a6c-6378-4d1d-8d36-9dacc70af69c",
   "metadata": {},
   "outputs": [
    {
     "data": {
      "text/html": [
       "<style>#sk-container-id-2 {color: black;}#sk-container-id-2 pre{padding: 0;}#sk-container-id-2 div.sk-toggleable {background-color: white;}#sk-container-id-2 label.sk-toggleable__label {cursor: pointer;display: block;width: 100%;margin-bottom: 0;padding: 0.3em;box-sizing: border-box;text-align: center;}#sk-container-id-2 label.sk-toggleable__label-arrow:before {content: \"▸\";float: left;margin-right: 0.25em;color: #696969;}#sk-container-id-2 label.sk-toggleable__label-arrow:hover:before {color: black;}#sk-container-id-2 div.sk-estimator:hover label.sk-toggleable__label-arrow:before {color: black;}#sk-container-id-2 div.sk-toggleable__content {max-height: 0;max-width: 0;overflow: hidden;text-align: left;background-color: #f0f8ff;}#sk-container-id-2 div.sk-toggleable__content pre {margin: 0.2em;color: black;border-radius: 0.25em;background-color: #f0f8ff;}#sk-container-id-2 input.sk-toggleable__control:checked~div.sk-toggleable__content {max-height: 200px;max-width: 100%;overflow: auto;}#sk-container-id-2 input.sk-toggleable__control:checked~label.sk-toggleable__label-arrow:before {content: \"▾\";}#sk-container-id-2 div.sk-estimator input.sk-toggleable__control:checked~label.sk-toggleable__label {background-color: #d4ebff;}#sk-container-id-2 div.sk-label input.sk-toggleable__control:checked~label.sk-toggleable__label {background-color: #d4ebff;}#sk-container-id-2 input.sk-hidden--visually {border: 0;clip: rect(1px 1px 1px 1px);clip: rect(1px, 1px, 1px, 1px);height: 1px;margin: -1px;overflow: hidden;padding: 0;position: absolute;width: 1px;}#sk-container-id-2 div.sk-estimator {font-family: monospace;background-color: #f0f8ff;border: 1px dotted black;border-radius: 0.25em;box-sizing: border-box;margin-bottom: 0.5em;}#sk-container-id-2 div.sk-estimator:hover {background-color: #d4ebff;}#sk-container-id-2 div.sk-parallel-item::after {content: \"\";width: 100%;border-bottom: 1px solid gray;flex-grow: 1;}#sk-container-id-2 div.sk-label:hover label.sk-toggleable__label {background-color: #d4ebff;}#sk-container-id-2 div.sk-serial::before {content: \"\";position: absolute;border-left: 1px solid gray;box-sizing: border-box;top: 0;bottom: 0;left: 50%;z-index: 0;}#sk-container-id-2 div.sk-serial {display: flex;flex-direction: column;align-items: center;background-color: white;padding-right: 0.2em;padding-left: 0.2em;position: relative;}#sk-container-id-2 div.sk-item {position: relative;z-index: 1;}#sk-container-id-2 div.sk-parallel {display: flex;align-items: stretch;justify-content: center;background-color: white;position: relative;}#sk-container-id-2 div.sk-item::before, #sk-container-id-2 div.sk-parallel-item::before {content: \"\";position: absolute;border-left: 1px solid gray;box-sizing: border-box;top: 0;bottom: 0;left: 50%;z-index: -1;}#sk-container-id-2 div.sk-parallel-item {display: flex;flex-direction: column;z-index: 1;position: relative;background-color: white;}#sk-container-id-2 div.sk-parallel-item:first-child::after {align-self: flex-end;width: 50%;}#sk-container-id-2 div.sk-parallel-item:last-child::after {align-self: flex-start;width: 50%;}#sk-container-id-2 div.sk-parallel-item:only-child::after {width: 0;}#sk-container-id-2 div.sk-dashed-wrapped {border: 1px dashed gray;margin: 0 0.4em 0.5em 0.4em;box-sizing: border-box;padding-bottom: 0.4em;background-color: white;}#sk-container-id-2 div.sk-label label {font-family: monospace;font-weight: bold;display: inline-block;line-height: 1.2em;}#sk-container-id-2 div.sk-label-container {text-align: center;}#sk-container-id-2 div.sk-container {/* jupyter's `normalize.less` sets `[hidden] { display: none; }` but bootstrap.min.css set `[hidden] { display: none !important; }` so we also need the `!important` here to be able to override the default hidden behavior on the sphinx rendered scikit-learn.org. See: https://github.com/scikit-learn/scikit-learn/issues/21755 */display: inline-block !important;position: relative;}#sk-container-id-2 div.sk-text-repr-fallback {display: none;}</style><div id=\"sk-container-id-2\" class=\"sk-top-container\"><div class=\"sk-text-repr-fallback\"><pre>CountVectorizer(max_features=1750, stop_words=&#x27;english&#x27;)</pre><b>In a Jupyter environment, please rerun this cell to show the HTML representation or trust the notebook. <br />On GitHub, the HTML representation is unable to render, please try loading this page with nbviewer.org.</b></div><div class=\"sk-container\" hidden><div class=\"sk-item\"><div class=\"sk-estimator sk-toggleable\"><input class=\"sk-toggleable__control sk-hidden--visually\" id=\"sk-estimator-id-2\" type=\"checkbox\" checked><label for=\"sk-estimator-id-2\" class=\"sk-toggleable__label sk-toggleable__label-arrow\">CountVectorizer</label><div class=\"sk-toggleable__content\"><pre>CountVectorizer(max_features=1750, stop_words=&#x27;english&#x27;)</pre></div></div></div></div></div>"
      ],
      "text/plain": [
       "CountVectorizer(max_features=1750, stop_words='english')"
      ]
     },
     "execution_count": 44,
     "metadata": {},
     "output_type": "execute_result"
    }
   ],
   "source": [
    "cv"
   ]
  },
  {
   "cell_type": "code",
   "execution_count": 45,
   "id": "cdbd8fda-86e6-43ea-8127-ff2913e4a821",
   "metadata": {},
   "outputs": [],
   "source": [
    "vector = cv.fit_transform(new_data['tags'][0:1750].values.astype('U'))"
   ]
  },
  {
   "cell_type": "code",
   "execution_count": 46,
   "id": "29a4d38a-df3c-48b2-bdbc-057201e1e5fa",
   "metadata": {},
   "outputs": [
    {
     "data": {
      "text/plain": [
       "<1750x1750 sparse matrix of type '<class 'numpy.int64'>'\n",
       "\twith 32671 stored elements in Compressed Sparse Row format>"
      ]
     },
     "execution_count": 46,
     "metadata": {},
     "output_type": "execute_result"
    }
   ],
   "source": [
    "vector"
   ]
  },
  {
   "cell_type": "code",
   "execution_count": 47,
   "id": "192dffc3-a1d5-4b5e-8bab-c9e7ccabcd45",
   "metadata": {},
   "outputs": [],
   "source": [
    "from sklearn.metrics.pairwise import cosine_similarity"
   ]
  },
  {
   "cell_type": "code",
   "execution_count": 48,
   "id": "464c52cc-882c-4e7e-8bb4-38a4e807511c",
   "metadata": {},
   "outputs": [],
   "source": [
    "similarity = cosine_similarity(vector)"
   ]
  },
  {
   "cell_type": "code",
   "execution_count": 49,
   "id": "09110aa4-ec9b-448b-892c-0cbdae73ec73",
   "metadata": {},
   "outputs": [
    {
     "data": {
      "text/plain": [
       "1750"
      ]
     },
     "execution_count": 49,
     "metadata": {},
     "output_type": "execute_result"
    }
   ],
   "source": [
    "len(similarity)"
   ]
  },
  {
   "cell_type": "code",
   "execution_count": 50,
   "id": "a73128fc-6ba2-4b46-9a8c-83276b665d32",
   "metadata": {},
   "outputs": [
    {
     "data": {
      "text/plain": [
       "1"
      ]
     },
     "execution_count": 50,
     "metadata": {},
     "output_type": "execute_result"
    }
   ],
   "source": [
    "new_data[new_data['title']==\"The Godfather\"].index[0]"
   ]
  },
  {
   "cell_type": "code",
   "execution_count": 51,
   "id": "8a69f3c9-14f7-418b-8e6e-9bfa991b8a46",
   "metadata": {},
   "outputs": [
    {
     "name": "stdout",
     "output_type": "stream",
     "text": [
      "<class 'pandas.core.frame.DataFrame'>\n",
      "RangeIndex: 3569 entries, 0 to 3568\n",
      "Data columns (total 8 columns):\n",
      " #   Column        Non-Null Count  Dtype \n",
      "---  ------        --------------  ----- \n",
      " 0   id            3569 non-null   int64 \n",
      " 1   title         3569 non-null   object\n",
      " 2   genre         3569 non-null   object\n",
      " 3   overview      3569 non-null   object\n",
      " 4   release_date  3569 non-null   object\n",
      " 5   crew          3569 non-null   object\n",
      " 6   cast          3566 non-null   object\n",
      " 7   tags          3566 non-null   object\n",
      "dtypes: int64(1), object(7)\n",
      "memory usage: 223.2+ KB\n"
     ]
    }
   ],
   "source": [
    "new_data.info()"
   ]
  },
  {
   "cell_type": "code",
   "execution_count": 52,
   "id": "f74bc739-4ef7-4740-831e-997f814866c5",
   "metadata": {},
   "outputs": [
    {
     "name": "stdout",
     "output_type": "stream",
     "text": [
      "The Godfather\n",
      "Donnie Brasco\n",
      "The Godfather: Part II\n",
      "Serial Mom\n",
      "One Hour Photo\n"
     ]
    }
   ],
   "source": [
    "distance = sorted(list(enumerate(similarity[1])),reverse=True,key = lambda vector:vector[1])\n",
    "for i in distance[0:5]:\n",
    "    print(new_data.iloc[i[0]].title)"
   ]
  },
  {
   "cell_type": "code",
   "execution_count": 53,
   "id": "b090d9a3-c6da-4daa-898e-b5e7aafbe50e",
   "metadata": {},
   "outputs": [],
   "source": [
    "def recommand(movies):\n",
    "    movie_info = [[0,0,0,0,0,0] for j in range(10)]\n",
    "    index = new_data[new_data['title']==movies].index[0]\n",
    "    distance = sorted(list(enumerate(similarity[index])),reverse=True,key = lambda vector:vector[1])\n",
    "    for i in range(0,10):\n",
    "        value = distance[i]\n",
    "        movie_info[i][0] = new_data.iloc[value[0]].title\n",
    "        movie_info[i][1] = new_data.iloc[value[0]].genre\n",
    "        movie_info[i][2] = new_data.iloc[value[0]].release_date\n",
    "        movie_info[i][3] = new_data.iloc[value[0]].cast\n",
    "        movie_info[i][4] = new_data.iloc[value[0]].crew\n",
    "        movie_info[i][5] = new_data.iloc[value[0]].overview\n",
    "    return movie_info    "
   ]
  },
  {
   "cell_type": "code",
   "execution_count": 54,
   "id": "27fb7fa8-9a34-4e30-ae67-223c23ca4177",
   "metadata": {},
   "outputs": [
    {
     "name": "stdout",
     "output_type": "stream",
     "text": [
      "['Iron Man', 'Action,Science Fiction,Adventure', '2008-04-30', 'Robert Downey Jr.,Terrence Howard,Jeff Bridges', ['Jon Favreau'], 'After being held captive in an Afghan cave, billionaire engineer Tony Stark creates a unique weaponized suit of armor to fight evil.']\n",
      "['Iron Man 3', 'Action,Adventure,Science Fiction', '2013-04-18', 'Robert Downey Jr.,Gwyneth Paltrow,Don Cheadle', ['Shane Black'], \"When Tony Stark's world is torn apart by a formidable terrorist called the Mandarin, he starts an odyssey of rebuilding and retribution.\"]\n",
      "['Avengers: Age of Ultron', 'Action,Adventure,Science Fiction', '2015-04-22', 'Robert Downey Jr.,Chris Hemsworth,Mark Ruffalo', ['Joss Whedon'], 'When Tony Stark tries to jumpstart a dormant peacekeeping program, things go awry and Earth’s Mightiest Heroes are put to the ultimate test as the fate of the planet hangs in the balance. As the villainous Ultron emerges, it is up to The Avengers to stop him from enacting his terrible plans, and soon uneasy alliances and unexpected action pave the way for an epic and unique global adventure.']\n",
      "['Sherlock Holmes: A Game of Shadows', 'Adventure,Action,Crime,Mystery', '2011-11-22', 'Robert Downey Jr.,Jude Law,Jared Harris', ['Guy Ritchie'], 'There is a new criminal mastermind at large (Professor Moriarty) and not only is he Holmes’ intellectual equal, but his capacity for evil and lack of conscience may give him an advantage over the  detective.']\n",
      "['Jurassic World', 'Action,Adventure,Science Fiction,Thriller', '2015-06-06', 'Chris Pratt,Bryce Dallas Howard,Irrfan Khan', ['Colin Trevorrow'], 'Twenty-two years after the events of Jurassic Park, Isla Nublar now features a fully functioning dinosaur theme park, Jurassic World, as originally envisioned by John Hammond.']\n",
      "['Iron Man 2', 'Adventure,Action,Science Fiction', '2010-04-28', 'Robert Downey Jr.,Gwyneth Paltrow,Don Cheadle', ['Jon Favreau'], \"With the world now aware of his dual life as the armored superhero Iron Man, billionaire inventor Tony Stark faces pressure from the government, the press and the public to share his technology with the military. Unwilling to let go of his invention, Stark, with Pepper Potts and James 'Rhodey' Rhodes at his side, must forge new alliances – and confront powerful enemies.\"]\n",
      "['The Avengers', 'Science Fiction,Action,Adventure', '2012-04-25', 'Robert Downey Jr.,Chris Evans,Mark Ruffalo', ['Joss Whedon'], 'When an unexpected enemy emerges and threatens global safety and security, Nick Fury, director of the international peacekeeping agency known as S.H.I.E.L.D., finds himself in need of a team to pull the world back from the brink of disaster. Spanning the globe, a daring recruitment effort begins!']\n",
      "['10 Cloverfield Lane', 'Thriller,Science Fiction,Drama,Horror', '2016-03-10', 'Mary Elizabeth Winstead,John Goodman,John Gallagher Jr.', ['Dan Trachtenberg'], 'After getting in a car accident, a woman is held in a shelter with two men, who claim the outside world is affected by a widespread chemical attack.']\n",
      "['Predator', 'Science Fiction,Action,Adventure,Thriller', '1987-06-12', 'Arnold Schwarzenegger,Carl Weathers,Elpidia Carrillo', ['John McTiernan'], 'A team of commandos on a mission in a Central American jungle find themselves hunted by an extraterrestrial warrior.']\n",
      "['Star Wars: Episode III - Revenge of the Sith', 'Adventure,Action,Science Fiction', '2005-05-17', 'Ewan McGregor,Natalie Portman,Hayden Christensen', ['George Lucas'], 'The evil Darth Sidious enacts his final plan for unlimited power -- and the heroic Jedi Anakin Skywalker must choose a side.']\n"
     ]
    }
   ],
   "source": [
    "result = recommand(\"Iron Man\")\n",
    "for i in result:\n",
    "    print(i)"
   ]
  },
  {
   "cell_type": "code",
   "execution_count": 55,
   "id": "2c33e109-252d-4dd2-80e5-e8a901b6352a",
   "metadata": {},
   "outputs": [],
   "source": [
    "import pickle"
   ]
  },
  {
   "cell_type": "code",
   "execution_count": 56,
   "id": "e41fe68f-9950-4cef-b8df-a0f40df244e0",
   "metadata": {},
   "outputs": [],
   "source": [
    "pickle.dump(similarity,open('new_similarity.pkl','wb'))"
   ]
  },
  {
   "cell_type": "code",
   "execution_count": 57,
   "id": "9aa5f112-bc70-4b15-85ef-7303ee5830a4",
   "metadata": {},
   "outputs": [],
   "source": [
    "pickle.dump(movies,open('new_movies.pkl','wb'))"
   ]
  },
  {
   "cell_type": "code",
   "execution_count": null,
   "id": "08c2d39e-628f-4251-b94f-50271f49eb3b",
   "metadata": {},
   "outputs": [],
   "source": []
  }
 ],
 "metadata": {
  "kernelspec": {
   "display_name": "Python 3 (ipykernel)",
   "language": "python",
   "name": "python3"
  },
  "language_info": {
   "codemirror_mode": {
    "name": "ipython",
    "version": 3
   },
   "file_extension": ".py",
   "mimetype": "text/x-python",
   "name": "python",
   "nbconvert_exporter": "python",
   "pygments_lexer": "ipython3",
   "version": "3.10.6"
  }
 },
 "nbformat": 4,
 "nbformat_minor": 5
}
